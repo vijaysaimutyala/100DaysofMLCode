{
  "nbformat": 4,
  "nbformat_minor": 0,
  "metadata": {
    "colab": {
      "name": "Compute ECG ABP from PPG.ipynb",
      "provenance": [],
      "toc_visible": true
    },
    "kernelspec": {
      "name": "python3",
      "display_name": "Python 3"
    }
  },
  "cells": [
    {
      "cell_type": "markdown",
      "metadata": {
        "id": "67qCwM_KzcaN",
        "colab_type": "text"
      },
      "source": [
        "# Link: “Cuff-Less Blood Pressure Estimation”"
      ]
    },
    {
      "cell_type": "markdown",
      "metadata": {
        "id": "SryG9c56znRU",
        "colab_type": "text"
      },
      "source": [
        "Link: “Cuff-Less Blood Pressure Estimation”\n",
        "https://www.kaggle.com/mkachuee/BloodPressureDataset\n",
        "\n",
        "\n",
        "Data Set Information: The main goal of this data set is providing clean and valid signals for designing cuff-less blood pressure estimation algorithms. The raw electrocardiogram (ECG), photoplethysmograph (PPG), and arterial blood pressure (ABP) signals are originally collected from the physionet.org and then some preprocessing and validation performed on them. (For more information about the process please refer to our paper) Attribute Information: This database consists of a cell array of matrices, each cell is one record part. In each matrix each row corresponds to one signal channel: \n",
        "\n",
        "1: PPG signal, FS=125Hz; photoplethysmograph from fingertip \n",
        "2: ABP signal, FS=125Hz; invasive arterial blood pressure (mmHg) \n",
        "3: ECG signal, FS=125Hz; electrocardiogram from channel II \n",
        "\n",
        "Note: dataset is splitted to multiple parts to make it easier to load on machines with low memory. Each cell is a record. There might be more than one record per patient (which is not possible to distinguish). However, records of the same patient appear next to each other. N-fold cross test and train is suggested to reduce the chance of trainset being contaminated by test patients."
      ]
    },
    {
      "cell_type": "code",
      "metadata": {
        "id": "la54aEfRzSTf",
        "colab_type": "code",
        "colab": {}
      },
      "source": [
        ""
      ],
      "execution_count": null,
      "outputs": []
    },
    {
      "cell_type": "markdown",
      "metadata": {
        "id": "o7y0e2iW0Bv4",
        "colab_type": "text"
      },
      "source": [
        "# Plot PPG, ECG and ABP data"
      ]
    },
    {
      "cell_type": "markdown",
      "metadata": {
        "id": "LJtCklxU0J0q",
        "colab_type": "text"
      },
      "source": [
        "Plot PPG, ECG and ABP data.  The answer is hidden in the link I gave you.   You will need to hack it together."
      ]
    },
    {
      "cell_type": "markdown",
      "metadata": {
        "id": "fbi1vgvi0VPw",
        "colab_type": "text"
      },
      "source": [
        "# Given PPG data, use any method to figure out ECG=f1(PPG), ABP=f2(PPG). "
      ]
    },
    {
      "cell_type": "markdown",
      "metadata": {
        "id": "gzZxOXhu0YKN",
        "colab_type": "text"
      },
      "source": [
        "Plot estimated ECG from PPG.  Plot errors too.  What's your best result?\n",
        "Use any math you know of.    Use more than one method.  The answers are hidden in Kaggle, Github or everywhere else."
      ]
    },
    {
      "cell_type": "markdown",
      "metadata": {
        "id": "oNs-F_dJ0iKQ",
        "colab_type": "text"
      },
      "source": [
        "# How many methods can you hack together to derive ECG & ABP from PPG ?"
      ]
    },
    {
      "cell_type": "markdown",
      "metadata": {
        "id": "PZzoUwgd0zXo",
        "colab_type": "text"
      },
      "source": [
        "1. HS math you know\n",
        "2. FFT, or DCT, WDT methods\n",
        "3. Statistical correlation\n",
        "4. Data science\n",
        "5. Machine Learning/Deep Learning\n",
        "6. Other methods"
      ]
    }
  ]
}